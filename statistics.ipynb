{
 "cells": [
  {
   "cell_type": "code",
   "execution_count": null,
   "metadata": {},
   "outputs": [],
   "source": [
    "import requests\n",
    "import pandas as pd\n",
    "\n",
    "from opentab_api import get_all_feedback, should_have_submitted_feedback, get_feedback_table\n",
    "from reports import feedback_shame_table"
   ]
  },
  {
   "cell_type": "code",
   "execution_count": null,
   "metadata": {},
   "outputs": [],
   "source": [
    "df_feedback = get_feedback_table()\n",
    "df_feedback.groupby('target').agg({'source':'count', 'target':'first'}).sort_values('source')"
   ]
  },
  {
   "cell_type": "code",
   "execution_count": null,
   "metadata": {},
   "outputs": [],
   "source": [
    "df_shame_all = pd.concat([feedback_shame_table(round=rnd) for rnd in ['r/1', 'r/2', 'r/3']]).groupby('name').agg({'missing': 'sum', 'name':'first'})\n",
    "df_shame_all.sort_values('missing', ascending=False).to_csv('shame.csv')"
   ]
  },
  {
   "cell_type": "code",
   "execution_count": null,
   "metadata": {},
   "outputs": [],
   "source": [
    "df_should_submit, df_submits_for, df_names = should_have_submitted_feedback(round='r/1')\n",
    "df_names"
   ]
  },
  {
   "cell_type": "code",
   "execution_count": null,
   "metadata": {},
   "outputs": [],
   "source": [
    "df_feedback.join(df_names, 'source', rsuffix='_src').join(df_names, 'target', rsuffix='_target').loc[:,['name','name_target', 'comments']].to_excel('fb.xlsx')"
   ]
  },
  {
   "cell_type": "code",
   "execution_count": null,
   "metadata": {},
   "outputs": [],
   "source": [
    "df_fb_comp = df_feedback.groupby('target').agg({'target': 'first', 'competency': 'mean', 'should_break': 'mean'}).set_index('target')"
   ]
  },
  {
   "cell_type": "code",
   "execution_count": null,
   "metadata": {},
   "outputs": [],
   "source": [
    "df_fb_comp.join(df_names).sort_values('competency', ascending=False)"
   ]
  },
  {
   "cell_type": "code",
   "execution_count": null,
   "metadata": {},
   "outputs": [],
   "source": [
    "ROUND = 'r/3'"
   ]
  },
  {
   "cell_type": "code",
   "execution_count": null,
   "metadata": {},
   "outputs": [],
   "source": [
    "draw = requests.get(f'http://localhost:5000/{ROUND}/draw').json()['payload']\n",
    "\n",
    "result = []\n",
    "\n",
    "for room in draw['draw']['rooms']:\n",
    "    for judge_link in room['judges']:\n",
    "        judge = draw['entities'][judge_link['href']]\n",
    "        ca = len([inst for inst in judge['institutions'] if inst['name'] == \"CA\"])\n",
    "        result.append({'room': room['href'], 'room_name': room['venue']['name'], 'judge': judge_link['href'], 'judge_name': judge['displayName'], 'wing_score': judge['wingCompetenceLevel'], 'chair_score': judge['chairCompetenceLevel'], 'ca': ca})\n",
    "\n",
    "df_rooms = pd.DataFrame(result).set_index('judge')"
   ]
  },
  {
   "cell_type": "code",
   "execution_count": null,
   "metadata": {},
   "outputs": [],
   "source": [
    "df_fb_comp"
   ]
  },
  {
   "cell_type": "code",
   "execution_count": null,
   "metadata": {},
   "outputs": [],
   "source": [
    "df_rooms = df_rooms.join(df_fb_comp)"
   ]
  },
  {
   "cell_type": "code",
   "execution_count": null,
   "metadata": {},
   "outputs": [],
   "source": [
    "df_rooms.groupby('room').agg({'room': 'first', 'room_name': 'first', 'wing_score': 'mean', 'chair_score': 'max', 'judge_name': 'count', 'ca': 'sum', 'competency': 'mean'})"
   ]
  },
  {
   "cell_type": "code",
   "execution_count": null,
   "metadata": {},
   "outputs": [],
   "source": [
    "df_rooms[df_rooms.room == 'd/16']"
   ]
  }
 ],
 "metadata": {
  "kernelspec": {
   "display_name": "venv",
   "language": "python",
   "name": "python3"
  },
  "language_info": {
   "codemirror_mode": {
    "name": "ipython",
    "version": 3
   },
   "file_extension": ".py",
   "mimetype": "text/x-python",
   "name": "python",
   "nbconvert_exporter": "python",
   "pygments_lexer": "ipython3",
   "version": "3.10.6"
  },
  "orig_nbformat": 4,
  "vscode": {
   "interpreter": {
    "hash": "59b5be062bb11437221d3aaac3370060843a0213be38416ff323123ad9543167"
   }
  }
 },
 "nbformat": 4,
 "nbformat_minor": 2
}
