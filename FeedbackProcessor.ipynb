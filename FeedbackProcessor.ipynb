{
 "cells": [
  {
   "cell_type": "markdown",
   "metadata": {},
   "source": [
    "# Processor for Feedback from Tabbycat\n",
    "\n",
    "In the administrator area of tabbycat, go to setup -> Export XML. Replace the filename 'Tournament.xml' in the next cell with your exported file.\n",
    "\n",
    "Below, you will have to modify the questions to export to feedback."
   ]
  },
  {
   "cell_type": "code",
   "execution_count": null,
   "metadata": {},
   "outputs": [],
   "source": [
    "import xml.dom.minidom\n",
    "Load_XML = xml.dom.minidom.parse('Tournament.xml')"
   ]
  },
  {
   "cell_type": "code",
   "execution_count": null,
   "metadata": {},
   "outputs": [],
   "source": [
    "attr = Load_XML.getElementsByTagName('adjudicator')[0].attributes['name']"
   ]
  },
  {
   "cell_type": "code",
   "execution_count": null,
   "metadata": {},
   "outputs": [],
   "source": [
    "attr.nodeValue"
   ]
  },
  {
   "cell_type": "code",
   "execution_count": null,
   "metadata": {},
   "outputs": [],
   "source": [
    "from xml.dom.minicompat import NodeList\n",
    "from xml.dom.minidom import Element\n",
    "import itertools\n",
    "\n",
    "\n",
    "def adj_to_feedback(adjs: NodeList[Element]) -> list[dict]:\n",
    "    return [\n",
    "            {\n",
    "                'to': adj.attributes['name'].nodeValue,\n",
    "                'score': fb.attributes['score'].nodeValue,\n",
    "                'question': answer.attributes['question'].nodeValue,\n",
    "                'answer': answer.childNodes[0].nodeValue\n",
    "            }\n",
    "            for adj in adjs for fb in adj.childNodes for answer in fb.childNodes \n",
    "         ] "
   ]
  },
  {
   "cell_type": "code",
   "execution_count": null,
   "metadata": {},
   "outputs": [],
   "source": [
    "import pandas as pd"
   ]
  },
  {
   "cell_type": "code",
   "execution_count": null,
   "metadata": {},
   "outputs": [],
   "source": [
    "df_feedback = pd.DataFrame(adj_to_feedback(Load_XML.getElementsByTagName('adjudicator')))"
   ]
  },
  {
   "cell_type": "markdown",
   "metadata": {},
   "source": []
  },
  {
   "cell_type": "code",
   "execution_count": null,
   "metadata": {},
   "outputs": [],
   "source": [
    "df_feedback"
   ]
  },
  {
   "cell_type": "code",
   "execution_count": null,
   "metadata": {},
   "outputs": [],
   "source": [
    "# Note just above this cell which question (e.g. 'Q4') is the open feedback question you want to export and modify\n",
    "# the next line accordingly.\n",
    "df_feedback[df_feedback.question == 'Q4'].to_csv('feedback.csv')"
   ]
  },
  {
   "cell_type": "code",
   "execution_count": null,
   "metadata": {},
   "outputs": [],
   "source": []
  }
 ],
 "metadata": {
  "kernelspec": {
   "display_name": ".venv",
   "language": "python",
   "name": "python3"
  },
  "language_info": {
   "codemirror_mode": {
    "name": "ipython",
    "version": 3
   },
   "file_extension": ".py",
   "mimetype": "text/x-python",
   "name": "python",
   "nbconvert_exporter": "python",
   "pygments_lexer": "ipython3",
   "version": "3.10.12"
  },
  "orig_nbformat": 4
 },
 "nbformat": 4,
 "nbformat_minor": 2
}
