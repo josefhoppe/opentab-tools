{
 "cells": [
  {
   "cell_type": "markdown",
   "metadata": {},
   "source": [
    "# Processor for Feedback from Tabbycat\n",
    "\n",
    "In the administrator area of tabbycat, go to setup -> Export XML. Replace the filename 'Tournament.xml' in the next cell with your exported file.\n",
    "\n",
    "Below, you will have to modify the questions to export to feedback."
   ]
  },
  {
   "cell_type": "code",
   "execution_count": null,
   "metadata": {},
   "outputs": [],
   "source": [
    "import xml.dom.minidom\n",
    "Load_XML = xml.dom.minidom.parse('Iron23.xml')"
   ]
  },
  {
   "cell_type": "code",
   "execution_count": null,
   "metadata": {},
   "outputs": [],
   "source": [
    "attr = Load_XML.getElementsByTagName('adjudicator')[0].attributes['name']"
   ]
  },
  {
   "cell_type": "code",
   "execution_count": null,
   "metadata": {},
   "outputs": [],
   "source": [
    "from xml.dom.minicompat import NodeList\n",
    "from xml.dom.minidom import Element\n",
    "import itertools\n",
    "\n",
    "\n",
    "def adj_to_feedback(adjs: NodeList[Element]) -> list[dict]:\n",
    "    filled_feedback = [\n",
    "            {\n",
    "                'to': adj.attributes['name'].nodeValue,\n",
    "                'score': fb.attributes['score'].nodeValue,\n",
    "                'question': answer.attributes['question'].nodeValue,\n",
    "                'answer': answer.childNodes[0].nodeValue,\n",
    "                'source': (fb.attributes['source-adjudicator'] if 'source-adjudicator' in fb.attributes else fb.attributes['source-team']).nodeValue,\n",
    "                'debate': fb.attributes['debate'].nodeValue\n",
    "            }\n",
    "            for adj in adjs for fb in adj.childNodes for answer in fb.childNodes \n",
    "         ]\n",
    "    # make sure to include scores w/o text for final aggregation\n",
    "    filled_set = { (fb['to'], fb['question'], fb['source'], fb['debate']) for fb in filled_feedback }\n",
    "    for adj in adjs:\n",
    "        to = adj.attributes['name'].nodeValue\n",
    "        for fb in adj.childNodes:\n",
    "            score = fb.attributes['score'].nodeValue\n",
    "            source = (fb.attributes['source-adjudicator'] if 'source-adjudicator' in fb.attributes else fb.attributes['source-team']).nodeValue\n",
    "            debate = fb.attributes['debate'].nodeValue\n",
    "            for q in Load_XML.getElementsByTagName('question'):\n",
    "                q_id = q.attributes['id'].nodeValue\n",
    "                if (to, q_id, source, debate) not in filled_set:\n",
    "                    filled_feedback.append({\n",
    "                        'to': to,\n",
    "                        'score': score,\n",
    "                        'question': q_id,\n",
    "                        'answer': '',\n",
    "                        'source': source,\n",
    "                        'debate': debate\n",
    "                    })\n",
    "    return filled_feedback"
   ]
  },
  {
   "cell_type": "code",
   "execution_count": null,
   "metadata": {},
   "outputs": [],
   "source": [
    "import pandas as pd"
   ]
  },
  {
   "cell_type": "code",
   "execution_count": null,
   "metadata": {},
   "outputs": [],
   "source": [
    "df_feedback = pd.DataFrame(adj_to_feedback(Load_XML.getElementsByTagName('adjudicator')))"
   ]
  },
  {
   "cell_type": "code",
   "execution_count": null,
   "metadata": {},
   "outputs": [],
   "source": [
    "[(q.attributes['id'].nodeValue, q.attributes['name'].nodeValue, q.nodeValue) for q in Load_XML.getElementsByTagName('question')]"
   ]
  },
  {
   "cell_type": "code",
   "execution_count": null,
   "metadata": {},
   "outputs": [],
   "source": [
    "# Note just above this cell which question (e.g. 'Q4') is the open feedback question you want to export and modify\n",
    "# the next line accordingly.\n",
    "df_feedback[df_feedback.question == 'Q6'].to_csv('feedback.csv')"
   ]
  }
 ],
 "metadata": {
  "kernelspec": {
   "display_name": ".venv",
   "language": "python",
   "name": "python3"
  },
  "language_info": {
   "codemirror_mode": {
    "name": "ipython",
    "version": 3
   },
   "file_extension": ".py",
   "mimetype": "text/x-python",
   "name": "python",
   "nbconvert_exporter": "python",
   "pygments_lexer": "ipython3",
   "version": "3.11.6"
  },
  "orig_nbformat": 4
 },
 "nbformat": 4,
 "nbformat_minor": 2
}
