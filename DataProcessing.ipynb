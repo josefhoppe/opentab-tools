{
 "cells": [
  {
   "cell_type": "code",
   "execution_count": null,
   "metadata": {},
   "outputs": [],
   "source": [
    "import pandas as pd\n",
    "from data_processing import *"
   ]
  },
  {
   "attachments": {},
   "cell_type": "markdown",
   "metadata": {},
   "source": [
    "# DataProcessing\n",
    "\n",
    "Dieses Jupyter Notebook dient dem Import, der Analyse, und der Aufbereitung von Daten der Individualanmeldung.\n",
    "Dabei ist es als lebendes Dokument gedacht, d.h. es soll vor Beginn der Datenaufbereitung kopiert und, wo nötig, angepasst werden.\n",
    "\n",
    "Das Notebook ist in folgende Schritte unterteilt:\n",
    "\n",
    "1. Daten laden und teilweise umformatieren\n",
    "    - Spaltennamen aus Forms sind super lang, daher in einfache Namen verwandeln\n",
    "    - Clubnamen sind häufig auch etwas sperrig ('Debattierclub Aachen e.V.' -- schließlich sind wir alle Debattierclubs, und die Info, dass es ein eingetragener Verein ist für das Tabben auch nicht von herausragender Bedeutung)\n",
    "2. Datenkonsistenz analysieren\n",
    "    - stimmen Teamnamen?\n",
    "    - ist die richtige Anzahl Jurierender / Teams / Teammitglieder vorhanden?\n",
    "3. Clashes eintragen\n",
    "4. Diverses zu beachten\n",
    "5. Export als CSV für OpenTab"
   ]
  },
  {
   "attachments": {},
   "cell_type": "markdown",
   "metadata": {},
   "source": [
    "## Daten laden und umformatieren"
   ]
  },
  {
   "cell_type": "code",
   "execution_count": null,
   "metadata": {},
   "outputs": [],
   "source": [
    "df_registration = pd.read_csv('IndReg.csv')\n",
    "df_registration = df_registration.applymap(lambda x: x if type(x) != str else x.strip())"
   ]
  },
  {
   "cell_type": "code",
   "execution_count": null,
   "metadata": {},
   "outputs": [],
   "source": [
    "# Nur diese Columns werden übernommen, der Rest wird ignoriert\n",
    "columns = {\n",
    "    'timestamp': 'Timestamp',\n",
    "    'club': 'Für welchen Club meldest du dich an?',\n",
    "    'first_name': 'Vorname',\n",
    "    'last_name': 'Nachname',\n",
    "    'email': 'Email-Adresse',\n",
    "    'tel': 'Telefonnummer',\n",
    "    'role': 'Redest oder Jurierst du?',\n",
    "    'team': 'Wie lautet euer Teamname?',\n",
    "    'team_members': 'Mit wem redest du im Team?',\n",
    "    'show_name': 'Ich bin Teilnehmerin oder Teilnehmer auf der Campus-Debatte Göttingen 2023 und bin damit einverstanden, dass ich mit meinem vollständigen Klarnamen aufgeführt werde.',\n",
    "    'judge_clashes_text': 'Gibt es Teams, Personen oder Clubs, die du nicht neutral jurieren kannst/möchtest? (Bitte niemanden aus dem eigenen Club eintragen) \\nHinweis: Wenn ihr eine längere Liste potentieller Clashes habt, gibt es die Möglichkeit nach Veröffentlichung der Zimmereinteilungen in einem seperaten Formular eure dann konkreten Clashes anzugeben. ',\n",
    "    'judge_tournaments': 'An wie vielen OPD-Turnieren hast du bereits als Juror:in teilgenommen?',\n",
    "    'judge_experience': 'Was hast du schon für Juriererfahrungen?',\n",
    "    'judge_breaks': 'Wie oft bist du schon auf OPD-Turnieren als Juror:in gebreakt?',\n",
    "    'judge_chaired': 'Wie oft hast du schon auf einem OPD-Turnier hauptjuriert?',\n",
    "    'judge_bias': 'Wie bepunktest du erfahrungsgemäß?',\n",
    "    'daf': 'Erfüllst du die Kriterien zur Teilnahme in der Kategorie \"Deutsch als Fremdsprache\"?',\n",
    "    'comments': 'Gibt es sonst noch etwas, das du uns mitteilen möchtest?',\n",
    "    'team_clashes_text': 'Gibt es Personen, von denen du nicht neutral juriert werden kannst/möchtest? (Bitte niemanden aus dem eigenen Club eintragen)',\n",
    "    'judge_nachwuchs': 'Erfüllst du die Voraussetzungen, um für die beste Nachwuchs-Jurierleistung ausgezeichnet zu werden? (Hast du auf weniger als fünf Turnieren juriert und ist deine erste Turniererfahrung als Redner:in oder Juror:in weniger als drei Jahre her?)'\n",
    "}"
   ]
  },
  {
   "cell_type": "code",
   "execution_count": null,
   "metadata": {},
   "outputs": [],
   "source": [
    "df_registration = map_column_names(df_registration, columns)\n",
    "df_registration.set_index('email', inplace=True)"
   ]
  },
  {
   "cell_type": "code",
   "execution_count": null,
   "metadata": {},
   "outputs": [],
   "source": [
    "# Convenience-Spalten\n",
    "df_registration['judge'] = df_registration.role == 'Ich juriere'\n",
    "df_registration['full_name'] = df_registration['first_name'] + \" \" + df_registration['last_name']"
   ]
  },
  {
   "cell_type": "code",
   "execution_count": null,
   "metadata": {},
   "outputs": [],
   "source": [
    "club_name_map = {\n",
    "    'Streitkultur Tübingen': 'SK',\n",
    "    'der Universität Münster e.V.': 'Münster',\n",
    "    'Wortgefechte Potsdam': 'Potsdam',\n",
    "    'FAU Erlangen-Nürnberg': 'Nürnberg',\n",
    "    'JG Mainz': 'Mainz',\n",
    "    'Debattiergesellschaft Jena': 'Jena',\n",
    "    'Streitkultur Berlin e. V.': 'SKBerlin',\n",
    "    'Berlin Debating Union': 'BDU',\n",
    "    'Mannheim Debating Union': 'Mannheim',\n",
    "    'Heidelberg': 'DCH'\n",
    "}"
   ]
  },
  {
   "cell_type": "code",
   "execution_count": null,
   "metadata": {},
   "outputs": [],
   "source": [
    "# Clubnamen in ein weniger sperriges Format überführen (Nur Stadtname, außer Streitkultur (SK), Rederei, DCH)\n",
    "df_registration.club = df_registration.club.apply(lambda x: x.replace('Debattierclub', '').replace('DC', '').strip()).apply(lambda x: club_name_map[x] if x in club_name_map else x)"
   ]
  },
  {
   "cell_type": "code",
   "execution_count": null,
   "metadata": {},
   "outputs": [],
   "source": [
    "# Daten korrigieren\n",
    "\n",
    "corrections = {\n",
    "}\n",
    "\n",
    "for email, corr_dict in corrections.items():\n",
    "    for column, val in corr_dict.items():\n",
    "        df_registration.loc[email,column] = val"
   ]
  },
  {
   "attachments": {},
   "cell_type": "markdown",
   "metadata": {},
   "source": [
    "## Datenkonsistenz"
   ]
  },
  {
   "cell_type": "code",
   "execution_count": null,
   "metadata": {},
   "outputs": [],
   "source": [
    "# Welche Clubs sind angemeldet? (Auch prüfen: Sind die Namen einheitlich und sind alle Namen in das weniger sperrige Format überführt worden?)\n",
    "df_registration.club.unique()"
   ]
  },
  {
   "cell_type": "code",
   "execution_count": null,
   "metadata": {},
   "outputs": [],
   "source": [
    "df_registration.sort_values('club', inplace=True)"
   ]
  },
  {
   "cell_type": "code",
   "execution_count": null,
   "metadata": {},
   "outputs": [],
   "source": [
    "# Welche Teams haben nicht genau 3 Leute, die sich angemeldet haben?\n",
    "team_counts = df_registration.sort_values('club').groupby(['club', 'team']).count()['first_name']\n",
    "team_counts[team_counts != 3]"
   ]
  },
  {
   "cell_type": "code",
   "execution_count": null,
   "metadata": {},
   "outputs": [],
   "source": [
    "# Wie viele Teams sind korrekt angemeldet?\n",
    "print('Correct teams: ', len(team_counts[team_counts == 3]))"
   ]
  },
  {
   "cell_type": "code",
   "execution_count": null,
   "metadata": {},
   "outputs": [],
   "source": [
    "# Gibt es genug DaFler, um damit etwas zu machen?\n",
    "df_registration[df_registration.daf == 'Ja']"
   ]
  },
  {
   "cell_type": "code",
   "execution_count": null,
   "metadata": {},
   "outputs": [],
   "source": [
    "# Welche Clubs erfüllen aktuell nicht die Jurierendenregelung (Annahme: Regelung ist `n`)\n",
    "df_reg_count = df_registration.sort_values('club').groupby(['club', 'judge']).count()['first_name'].unstack(1)\n",
    "df_reg_count.columns=['Speaker', 'Judge']\n",
    "df_reg_count[df_reg_count.Speaker / 3 != df_reg_count.Judge]"
   ]
  },
  {
   "cell_type": "code",
   "execution_count": null,
   "metadata": {},
   "outputs": [],
   "source": [
    "# Wie viele Jurierende gibt es insgesamt\n",
    "df_reg_count.Judge.sum()"
   ]
  },
  {
   "attachments": {},
   "cell_type": "markdown",
   "metadata": {},
   "source": [
    "## Clashes"
   ]
  },
  {
   "cell_type": "code",
   "execution_count": null,
   "metadata": {},
   "outputs": [],
   "source": [
    "# Man clasht ja eig. immer mit dem Club der Anmeldung; sonst ggfs. korrigieren.\n",
    "df_registration['club_clashes'] = df_registration['club']"
   ]
  },
  {
   "cell_type": "code",
   "execution_count": null,
   "metadata": {},
   "outputs": [],
   "source": [
    "# Hier werden weitere Clubs eingetragen, gegen die Leute clashen\n",
    "\n",
    "club_clashes = {\n",
    "    ## JUDGES\n",
    "    'email@domain.com': ['Aachen', 'BDU'], # Hier ggfs. Kommentar für spätere Referenz einfügen\n",
    "    ## SPEAKERS\n",
    "    \n",
    "}"
   ]
  },
  {
   "cell_type": "code",
   "execution_count": null,
   "metadata": {},
   "outputs": [],
   "source": [
    "# Hier werden persönliche Clashes eingetragen\n",
    "\n",
    "speaker_clashes = {\n",
    "    ## JUDGES\n",
    "    'email@domain.com': ['Vorname Nachname'],\n",
    "    ## SPEAKERS\n",
    "}"
   ]
  },
  {
   "cell_type": "code",
   "execution_count": null,
   "metadata": {},
   "outputs": [],
   "source": [
    "# Alle Leute mit eingetragenen clashes (Spalte ggfs. anpassen)\n",
    "df_registration[df_registration.judge_clashes_text.notna()].loc[:,['club', 'first_name', 'last_name', 'judge', 'judge_clashes_text', 'team_clashes_text', 'comments', 'club_clashes']]"
   ]
  },
  {
   "cell_type": "code",
   "execution_count": null,
   "metadata": {},
   "outputs": [],
   "source": [
    "# Eintragen der Clashes in df_registration\n",
    "\n",
    "for email, clashes in club_clashes.items():\n",
    "    df_registration.loc[email, 'club_clashes'] += \",\" + \",\".join(clashes)\n",
    "    df_registration.loc[email, 'other_clubs'] = \",\".join(clashes)\n",
    "\n",
    "for email, clashes in speaker_clashes.items():\n",
    "    df_registration.loc[email, 'person_clashes'] = \",\".join(clashes)"
   ]
  },
  {
   "cell_type": "code",
   "execution_count": null,
   "metadata": {},
   "outputs": [],
   "source": [
    "# Kontrolle\n",
    "\n",
    "df_registration[(df_registration.other_clubs.notna() | df_registration.person_clashes.notna())].loc[:, ['full_name', 'club', 'judge', 'other_clubs', 'person_clashes']].fillna(\"\")"
   ]
  },
  {
   "attachments": {},
   "cell_type": "markdown",
   "metadata": {},
   "source": [
    "## Zu beachten, aber erst in OpenTab eintragbar"
   ]
  },
  {
   "cell_type": "code",
   "execution_count": null,
   "metadata": {},
   "outputs": [],
   "source": [
    "# Möchten nur mit Initialien auf dem Tab stehen\n",
    "\n",
    "df_registration[df_registration.show_name != 'Ja']"
   ]
  },
  {
   "attachments": {},
   "cell_type": "markdown",
   "metadata": {},
   "source": [
    "## Export für OpenTab"
   ]
  },
  {
   "attachments": {},
   "cell_type": "markdown",
   "metadata": {},
   "source": [
    "opentab import values:\n",
    "\n",
    "```\n",
    "Full Name\n",
    "First Name\n",
    "Last Name\n",
    "Clubs\n",
    "Role\n",
    "Clashes\n",
    "E-Mail\n",
    "```"
   ]
  },
  {
   "cell_type": "code",
   "execution_count": null,
   "metadata": {},
   "outputs": [],
   "source": [
    "\n",
    "df_registration.team.fillna('#00', inplace=True)"
   ]
  },
  {
   "cell_type": "code",
   "execution_count": null,
   "metadata": {},
   "outputs": [],
   "source": [
    "# Werte auswählen\n",
    "df_export = df_registration.loc[:,['team', 'first_name', 'last_name', 'full_name', 'club_clashes', 'person_clashes']]\n",
    "\n",
    "# Jurierende bekommen als Team `#00`, die 0en bedeuten Kompetenz als Wing bzw. Chair.\n",
    "# Wird erst hinterher eingetragen, muss aber für den Import stimmen.\n",
    "df_export.team.fillna('#00', inplace=True)\n",
    "\n",
    "# Jurierende können im Nachhinein nicht hinzugefügt werden, daher hier Placeholder mit Star Trek Flavor.\n",
    "df_extras = pd.DataFrame([\n",
    "    {'email': 'data@hoppe.io', 'team': '#40', 'first_name': 'Commander', 'last_name': 'Data', 'full_name': 'Commander Data', 'club_clashes': 'Reserve'},\n",
    "    {'email': 'garak@hoppe.io', 'team': '#40', 'first_name': 'Elim', 'last_name': 'Garak', 'full_name': 'Ilem Garak', 'club_clashes': 'Reserve'},\n",
    "    {'email': 'jellico@hoppe.io', 'team': '#40', 'first_name': 'Cpt. Edward', 'last_name': 'Jellico', 'full_name': 'Cpt. Edward Jellico', 'club_clashes': 'Reserve'},\n",
    "    {'email': 'quark@hoppe.io', 'team': '#40', 'first_name': '', 'last_name': 'Quark', 'full_name': 'Quark', 'club_clashes': 'Reserve'}\n",
    "]).set_index('email')\n",
    "\n",
    "df_export = pd.concat((df_export, df_extras))\n",
    "\n",
    "# Das Sortieren sortiert Jurierende korrekt ein; insbesondere landen die Placeholder für einfache Deaktivierung ganz am Ende der Liste.\n",
    "df_export.sort_values('team').to_csv('opentab.csv')"
   ]
  }
 ],
 "metadata": {
  "kernelspec": {
   "display_name": "venv",
   "language": "python",
   "name": "python3"
  },
  "language_info": {
   "codemirror_mode": {
    "name": "ipython",
    "version": 3
   },
   "file_extension": ".py",
   "mimetype": "text/x-python",
   "name": "python",
   "nbconvert_exporter": "python",
   "pygments_lexer": "ipython3",
   "version": "3.10.9"
  },
  "orig_nbformat": 4,
  "vscode": {
   "interpreter": {
    "hash": "5cca2c3906dffb490f443788e2e73239ababfbadf74bb458f34e5f13059313ab"
   }
  }
 },
 "nbformat": 4,
 "nbformat_minor": 2
}
